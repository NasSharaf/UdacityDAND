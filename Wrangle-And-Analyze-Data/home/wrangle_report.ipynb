{
 "cells": [
  {
   "cell_type": "markdown",
   "metadata": {},
   "source": [
    "Internal analysis:\n",
    "\n",
    "Wrangling the twitter handle WeRateDogs was difficult. It involved collating data from three different sources, one handed internally, one that had to be requested off of a server, and one that was generated via Tweepy API. The wrangling required authentication information from the Tweepy API that has been omitted, as per industry standards. The data cleaning was a rough go, every attempt to clean one aspect of the data set revealed quality issues that weren't prevalent upon initial inspection. While a rough plan was outlined before the process was initiated, it was somewhat abandoned as more an more quality issues became made aware. \n",
    "\n",
    "In general, it is considered good practice to address tidyness issues before moving on to quality issues, but because the major tidyness issue was collating the three seperate datasets, I thought the best thing was to address the major glaring issue of missing values (NaNs) first because most of those missing values were related to retweets that we wanted to drop regardless. It seemed better to drop the retweets and then join on the archive data. This made tidying all three datasets very smooth. \n",
    "\n",
    "It is quite evident that not all of the issues have been ameliorated. For example, I inititally noticed that there were several rating denominators less than ten. One simply didn't have a rating, but the other had a rating that was ignored because the algorithm picked up another fraction in the tweet. This made me aware of how an algorithm would pick up values. Thus, several of the names had \"a\" or \"the\" because the algorithm was looking fo rthe statement \"this is\" and taking the following word as the name. This opened my eyes to whole host of issues regarding names. I got several, but there are several more to hunt down. \n",
    "\n",
    "While the data has been tidied and is in general usable, there are opportunities for greater tidying. Technically every variable is a column, every data is an observation and the data forms a table, but several of the columns could be combined into a single variable column to reduce the redundancy of several of the observations. This might make some aspects of analysis easier, although it is concievable that it will also complicate analysis and require melting the data set further down the line. I would ask a manager or the client for clarification as to how they wish to use this data to better understand whether this would be a convienient wrangling step."
   ]
  },
  {
   "cell_type": "code",
   "execution_count": null,
   "metadata": {},
   "outputs": [],
   "source": []
  }
 ],
 "metadata": {
  "kernelspec": {
   "display_name": "Python 3",
   "language": "python",
   "name": "python3"
  },
  "language_info": {
   "codemirror_mode": {
    "name": "ipython",
    "version": 3
   },
   "file_extension": ".py",
   "mimetype": "text/x-python",
   "name": "python",
   "nbconvert_exporter": "python",
   "pygments_lexer": "ipython3",
   "version": "3.6.3"
  }
 },
 "nbformat": 4,
 "nbformat_minor": 2
}
